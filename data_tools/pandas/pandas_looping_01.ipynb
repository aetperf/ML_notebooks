{
 "cells": [
  {
   "cell_type": "markdown",
   "metadata": {},
   "source": [
    "\n",
    "I recently stumbled on this interesting post on [RealPython](https://realpython.com/) (excellent website by the way!):\n",
    "\n",
    "[**Fast, Flexible, Easy and Intuitive: How to Speed Up Your Pandas Projects**](https://realpython.com/fast-flexible-pandas/)\n",
    "\n",
    "This post has different subjects related to Pandas:\n",
    "- creating a `datetime` column\n",
    "- looping over Pandas data\n",
    "- saving/loading HDF data stores\n",
    "- ...\n",
    "\n",
    "I focused on the *looping over Pandas data* part. They compare different approaches for looping over a dataframe and applying a basic (piecewise linear) function: \n",
    "- a \"crappy\" loop with `.iloc` to access the data\n",
    "- `iterrows()`\n",
    "- `apply()` with a lambda function\n",
    "\n",
    "But I was a little bit disapointed to see that they did not actually implement the following other approaches:\n",
    "- itertuples()`\n",
    "> While `.itertuples()` tends to be a bit faster, let’s stay in Pandas and use `.iterrows()` in this example, because some readers might not have run across `nametuple`. \n",
    "- Numpy vectorize\n",
    "- Numpy (just a loop over Numpy vectors)\n",
    "- Cython\n",
    "- Numba\n",
    "\n",
    "So I just wanted to complete their post by adding the latter approaches to the performance comparison, using the same `.csv` file. In order to compare all the different implementations on the same computer, I also copied and re-ran their code.  \n",
    "\n",
    "Note: my laptop CPU is an `Intel(R) Core(TM) i7-7700HQ CPU @ 2.80GHz`  (with some DDDR4-2400 RAM)."
   ]
  },
  {
   "cell_type": "markdown",
   "metadata": {},
   "source": [
    "## Imports"
   ]
  },
  {
   "cell_type": "code",
   "execution_count": 1,
   "metadata": {},
   "outputs": [
    {
     "name": "stdout",
     "output_type": "stream",
     "text": [
      "Python version: 3.7.0 (default, Jun 28 2018, 13:15:42) \n",
      "[GCC 7.2.0]\n",
      "Numpy version: 1.15.0\n",
      "Pandas version: 0.23.3\n",
      "Cython version: 0.28.4\n",
      "Numba version: 0.39.0\n"
     ]
    }
   ],
   "source": [
    "import sys\n",
    "print(f\"Python version: {sys.version}\")\n",
    "\n",
    "import numpy as np\n",
    "print(f\"Numpy version: {np.__version__}\")\n",
    "\n",
    "import pandas as pd\n",
    "print(f\"Pandas version: {pd.__version__}\")\n",
    "\n",
    "%load_ext Cython\n",
    "import cython\n",
    "print(f\"Cython version: {cython.__version__}\")\n",
    "\n",
    "import numba\n",
    "print(f\"Numba version: {numba.__version__}\")\n",
    "from numba import jit\n",
    "\n",
    "import matplotlib\n",
    "import matplotlib.pyplot as plt\n",
    "%matplotlib inline\n",
    "plt.style.use('ggplot')"
   ]
  },
  {
   "cell_type": "markdown",
   "metadata": {},
   "source": [
    "## Load the csv file\n",
    "\n",
    "The `.csv` file is located [here](https://github.com/realpython/materials/blob/master/pandas-fast-flexible-intuitive/tutorial/demand_profile.csv). It has been saved in a local `data/` directory. The `datetime` column is created at the import with the `parse_dates` argument."
   ]
  },
  {
   "cell_type": "code",
   "execution_count": 2,
   "metadata": {},
   "outputs": [
    {
     "name": "stdout",
     "output_type": "stream",
     "text": [
      "<class 'pandas.core.frame.DataFrame'>\n",
      "RangeIndex: 8760 entries, 0 to 8759\n",
      "Data columns (total 2 columns):\n",
      "date_time     8760 non-null datetime64[ns]\n",
      "energy_kwh    8760 non-null float64\n",
      "dtypes: datetime64[ns](1), float64(1)\n",
      "memory usage: 137.0 KB\n"
     ]
    }
   ],
   "source": [
    "df = pd.read_csv('./data/demand_profile.csv', parse_dates=['date_time'])\n",
    "df.info()  # inspect the dataframe"
   ]
  },
  {
   "cell_type": "markdown",
   "metadata": {},
   "source": [
    "So we only have two columns in this dataframe: one for the `datetime` and one for the energy usage:"
   ]
  },
  {
   "cell_type": "code",
   "execution_count": 3,
   "metadata": {},
   "outputs": [
    {
     "data": {
      "text/html": [
       "<div>\n",
       "<style scoped>\n",
       "    .dataframe tbody tr th:only-of-type {\n",
       "        vertical-align: middle;\n",
       "    }\n",
       "\n",
       "    .dataframe tbody tr th {\n",
       "        vertical-align: top;\n",
       "    }\n",
       "\n",
       "    .dataframe thead th {\n",
       "        text-align: right;\n",
       "    }\n",
       "</style>\n",
       "<table border=\"1\" class=\"dataframe\">\n",
       "  <thead>\n",
       "    <tr style=\"text-align: right;\">\n",
       "      <th></th>\n",
       "      <th>date_time</th>\n",
       "      <th>energy_kwh</th>\n",
       "    </tr>\n",
       "  </thead>\n",
       "  <tbody>\n",
       "    <tr>\n",
       "      <th>0</th>\n",
       "      <td>2013-01-01 00:00:00</td>\n",
       "      <td>0.586</td>\n",
       "    </tr>\n",
       "    <tr>\n",
       "      <th>1</th>\n",
       "      <td>2013-01-01 01:00:00</td>\n",
       "      <td>0.580</td>\n",
       "    </tr>\n",
       "  </tbody>\n",
       "</table>\n",
       "</div>"
      ],
      "text/plain": [
       "            date_time  energy_kwh\n",
       "0 2013-01-01 00:00:00       0.586\n",
       "1 2013-01-01 01:00:00       0.580"
      ]
     },
     "execution_count": 3,
     "metadata": {},
     "output_type": "execute_result"
    }
   ],
   "source": [
    "df.head(2)"
   ]
  },
  {
   "cell_type": "markdown",
   "metadata": {},
   "source": [
    "> The goal of this example will be to apply time-of-use energy tariffs to find the total cost of energy consumption for one year. That is, at different hours of the day, the price for electricity varies, so the task is to multiply the electricity consumed for each hour by the correct price for the hour in which it was consumed."
   ]
  },
  {
   "cell_type": "markdown",
   "metadata": {},
   "source": [
    "# Performance comparison"
   ]
  },
  {
   "cell_type": "markdown",
   "metadata": {},
   "source": [
    "## 1. The \"Crappy\" loop"
   ]
  },
  {
   "cell_type": "code",
   "execution_count": 4,
   "metadata": {},
   "outputs": [],
   "source": [
    "def apply_tariff(kwh, hour):\n",
    "    \"\"\" Calculates cost of electricity for given hour.\n",
    "    \"\"\"\n",
    "\n",
    "    if 0 <= hour < 7:\n",
    "        rate = 12\n",
    "    elif 7 <= hour < 17:\n",
    "        rate = 20\n",
    "    elif 17 <= hour < 24:\n",
    "        rate = 28\n",
    "    else:\n",
    "        raise ValueError(f'Invalid hour: {hour}')\n",
    "\n",
    "    return rate * kwh"
   ]
  },
  {
   "cell_type": "code",
   "execution_count": 5,
   "metadata": {},
   "outputs": [],
   "source": [
    "def apply_tariff_loop(df):\n",
    "    \"\"\" Calculate costs in loop.  Modifies `df` inplace.\n",
    "    \"\"\"\n",
    "\n",
    "    energy_cost_list = []\n",
    "    for i in range(len(df)):\n",
    "        # Get electricity used and hour of day\n",
    "        energy_used = df.iloc[i]['energy_kwh']\n",
    "        hour = df.iloc[i]['date_time'].hour\n",
    "        energy_cost = apply_tariff(energy_used, hour)\n",
    "        energy_cost_list.append(energy_cost)\n",
    "    df['cost_cents'] = energy_cost_list"
   ]
  },
  {
   "cell_type": "code",
   "execution_count": 6,
   "metadata": {},
   "outputs": [
    {
     "name": "stdout",
     "output_type": "stream",
     "text": [
      "2.06 s ± 0 ns per loop (mean ± std. dev. of 1 run, 1 loop each)\n"
     ]
    }
   ],
   "source": [
    "timeit = {}  # initialization of the timing measures\n",
    "result = %timeit -r 1 -n 1 -o apply_tariff_loop(df)\n",
    "timeit[\"Crappy Loop\"] = result.best"
   ]
  },
  {
   "cell_type": "markdown",
   "metadata": {},
   "source": [
    "Next we save the result of the computation in order to later check that we get the same result with the different implementations..."
   ]
  },
  {
   "cell_type": "code",
   "execution_count": 7,
   "metadata": {},
   "outputs": [],
   "source": [
    "df.rename(columns={'cost_cents': 'cost_cents_ref'}, inplace=True)"
   ]
  },
  {
   "cell_type": "markdown",
   "metadata": {},
   "source": [
    "## 2. Looping with `.iterrows()`"
   ]
  },
  {
   "cell_type": "code",
   "execution_count": 8,
   "metadata": {},
   "outputs": [],
   "source": [
    "def apply_tariff_iterrows(df):\n",
    "\n",
    "    energy_cost_list = []\n",
    "    for index, row in df.iterrows():\n",
    "        # Get electricity used and hour of day\n",
    "        energy_used = row['energy_kwh']\n",
    "        hour = row['date_time'].hour\n",
    "        # Append cost list\n",
    "        energy_cost = apply_tariff(energy_used, hour)\n",
    "        energy_cost_list.append(energy_cost)\n",
    "    df['cost_cents'] = energy_cost_list"
   ]
  },
  {
   "cell_type": "code",
   "execution_count": 9,
   "metadata": {},
   "outputs": [
    {
     "name": "stdout",
     "output_type": "stream",
     "text": [
      "463 ms ± 1.47 ms per loop (mean ± std. dev. of 3 runs, 10 loops each)\n"
     ]
    }
   ],
   "source": [
    "result = %timeit -r 3 -n 10 -o apply_tariff_iterrows(df)\n",
    "timeit['Iterrows'] = result.best"
   ]
  },
  {
   "cell_type": "code",
   "execution_count": 10,
   "metadata": {},
   "outputs": [
    {
     "ename": "AssertionError",
     "evalue": "",
     "output_type": "error",
     "traceback": [
      "\u001b[0;31m---------------------------------------------------------------------------\u001b[0m",
      "\u001b[0;31mAssertionError\u001b[0m                            Traceback (most recent call last)",
      "\u001b[0;32m<ipython-input-10-443d320289a5>\u001b[0m in \u001b[0;36m<module>\u001b[0;34m()\u001b[0m\n\u001b[1;32m      1\u001b[0m \u001b[0mdf\u001b[0m\u001b[0;34m.\u001b[0m\u001b[0mcost_cents\u001b[0m \u001b[0;34m=\u001b[0m \u001b[0;36m0.0\u001b[0m\u001b[0;34m\u001b[0m\u001b[0m\n\u001b[0;32m----> 2\u001b[0;31m \u001b[0;32massert\u001b[0m \u001b[0mnp\u001b[0m\u001b[0;34m.\u001b[0m\u001b[0mallclose\u001b[0m\u001b[0;34m(\u001b[0m\u001b[0mdf\u001b[0m\u001b[0;34m.\u001b[0m\u001b[0mcost_cents\u001b[0m\u001b[0;34m.\u001b[0m\u001b[0mvalues\u001b[0m\u001b[0;34m,\u001b[0m \u001b[0mdf\u001b[0m\u001b[0;34m.\u001b[0m\u001b[0mcost_cents_ref\u001b[0m\u001b[0;34m.\u001b[0m\u001b[0mvalues\u001b[0m\u001b[0;34m)\u001b[0m\u001b[0;34m\u001b[0m\u001b[0m\n\u001b[0m\u001b[1;32m      3\u001b[0m \u001b[0mdf\u001b[0m\u001b[0;34m.\u001b[0m\u001b[0mdrop\u001b[0m\u001b[0;34m(\u001b[0m\u001b[0;34m'cost_cents'\u001b[0m\u001b[0;34m,\u001b[0m \u001b[0maxis\u001b[0m\u001b[0;34m=\u001b[0m\u001b[0;36m1\u001b[0m\u001b[0;34m,\u001b[0m \u001b[0minplace\u001b[0m\u001b[0;34m=\u001b[0m\u001b[0;32mTrue\u001b[0m\u001b[0;34m)\u001b[0m\u001b[0;34m\u001b[0m\u001b[0m\n",
      "\u001b[0;31mAssertionError\u001b[0m: "
     ]
    }
   ],
   "source": [
    "assert np.allclose(df.cost_cents.values, df.cost_cents_ref.values)\n",
    "df.drop('cost_cents', axis=1, inplace=True)"
   ]
  },
  {
   "cell_type": "markdown",
   "metadata": {},
   "source": [
    "## 3. Pandas’ `apply()`"
   ]
  },
  {
   "cell_type": "code",
   "execution_count": null,
   "metadata": {},
   "outputs": [],
   "source": [
    "def apply_tariff_withapply(df):\n",
    "\n",
    "    df['cost_cents'] = df.apply(\n",
    "        lambda row: apply_tariff(\n",
    "            kwh=row['energy_kwh'],\n",
    "            hour=row['date_time'].hour),\n",
    "        axis=1)"
   ]
  },
  {
   "cell_type": "code",
   "execution_count": null,
   "metadata": {},
   "outputs": [],
   "source": [
    "result = %timeit -r 3 -n 10 -o apply_tariff_withapply(df)\n",
    "timeit['Apply'] = result.best"
   ]
  },
  {
   "cell_type": "code",
   "execution_count": null,
   "metadata": {},
   "outputs": [],
   "source": [
    "assert np.allclose(df.cost_cents.values, df.cost_cents_ref.values)\n",
    "df.drop('cost_cents', axis=1, inplace=True)"
   ]
  },
  {
   "cell_type": "markdown",
   "metadata": {},
   "source": [
    "## 4. Looping with `.itertuples()`"
   ]
  },
  {
   "cell_type": "code",
   "execution_count": null,
   "metadata": {},
   "outputs": [],
   "source": [
    "def apply_tariff_itertuples(df):\n",
    "\n",
    "    energy_cost_list = []\n",
    "    for row in df.itertuples():\n",
    "        # Get electricity used and hour of day\n",
    "        energy_used = row.energy_kwh\n",
    "        hour = row.date_time.hour\n",
    "        # Append cost list\n",
    "        energy_cost = apply_tariff(energy_used, hour)\n",
    "        energy_cost_list.append(energy_cost)\n",
    "    df['cost_cents'] = energy_cost_list"
   ]
  },
  {
   "cell_type": "code",
   "execution_count": null,
   "metadata": {},
   "outputs": [],
   "source": [
    "result = %timeit -r 3 -n 10 -o apply_tariff_itertuples(df)\n",
    "timeit['Itertuples'] = result.best"
   ]
  },
  {
   "cell_type": "code",
   "execution_count": null,
   "metadata": {},
   "outputs": [],
   "source": [
    "assert np.allclose(df.cost_cents.values, df.cost_cents_ref.values)\n",
    "df.drop('cost_cents', axis=1, inplace=True)"
   ]
  },
  {
   "cell_type": "markdown",
   "metadata": {},
   "source": [
    "## 5. Numpy's `vectorize()`"
   ]
  },
  {
   "cell_type": "code",
   "execution_count": null,
   "metadata": {},
   "outputs": [],
   "source": [
    "def apply_tariff_vect(hour, kwh):\n",
    "\n",
    "    if 0 <= hour < 7:\n",
    "        rate = 12\n",
    "    elif 7 <= hour < 17:\n",
    "        rate = 20\n",
    "    else:\n",
    "        rate = 28\n",
    "\n",
    "    return rate * kwh\n",
    "\n",
    "vfunc = np.vectorize(apply_tariff_vect)\n",
    "\n",
    "def compute_cost_vect(df):\n",
    "\n",
    "    df['cost_cents'] = 0.0\n",
    "    hour_array = df.date_time.dt.hour.values\n",
    "    if (hour_array.min() < 0) or (hour_array.max() > 23):\n",
    "        raise ValueError(f'Invalid hour values')\n",
    "\n",
    "    df.cost_cents = vfunc(hour_array, df.energy_kwh.values)"
   ]
  },
  {
   "cell_type": "code",
   "execution_count": null,
   "metadata": {},
   "outputs": [],
   "source": [
    "result = %timeit -r 3 -n 10 -o compute_cost_vect(df)\n",
    "timeit['Numpy vectorize'] = result.best"
   ]
  },
  {
   "cell_type": "code",
   "execution_count": null,
   "metadata": {},
   "outputs": [],
   "source": [
    "assert np.allclose(df.cost_cents.values, df.cost_cents_ref.values)\n",
    "df.drop('cost_cents', axis=1, inplace=True)"
   ]
  },
  {
   "cell_type": "markdown",
   "metadata": {},
   "source": [
    "## 6. The Numpy loop\n",
    "\n",
    "Before testing Cython and Numba, let's create a loop function `loop_tariff` with Numpy array arguments, on which we are going to apply the different methods."
   ]
  },
  {
   "cell_type": "code",
   "execution_count": null,
   "metadata": {},
   "outputs": [],
   "source": [
    "def loop_tariff(hour_array, energy_kwh_array, cost_cents_array):\n",
    "\n",
    "    df_len = hour_array.shape[0]\n",
    "\n",
    "    for i in range(df_len):\n",
    "        hour = hour_array[i]\n",
    "        if 0 <= hour < 7:\n",
    "            rate = 12\n",
    "        elif 7 <= hour < 17:\n",
    "            rate = 20\n",
    "        else:\n",
    "            rate = 28\n",
    "        cost_cents_array[i] = rate * energy_kwh_array[i]\n",
    "        \n",
    "def compute_cost(df):\n",
    "\n",
    "    df['cost_cents'] = 0.0\n",
    "    hour_array = df.date_time.dt.hour.values\n",
    "    if (hour_array.min() < 0) or (hour_array.max() > 23):\n",
    "        raise ValueError(f'Invalid hour values')\n",
    "\n",
    "    loop_tariff(hour_array, df.energy_kwh.values, df.cost_cents.values)"
   ]
  },
  {
   "cell_type": "code",
   "execution_count": null,
   "metadata": {},
   "outputs": [],
   "source": [
    "result = %timeit -r 3 -n 10 -o compute_cost(df)\n",
    "timeit['Numpy loop'] = result.best"
   ]
  },
  {
   "cell_type": "code",
   "execution_count": null,
   "metadata": {},
   "outputs": [],
   "source": [
    "assert np.allclose(df.cost_cents.values, df.cost_cents_ref.values)\n",
    "df.drop('cost_cents', axis=1, inplace=True)"
   ]
  },
  {
   "cell_type": "markdown",
   "metadata": {},
   "source": [
    "## 7. Cython"
   ]
  },
  {
   "cell_type": "code",
   "execution_count": null,
   "metadata": {},
   "outputs": [],
   "source": [
    "%%cython\n",
    "\n",
    "cimport cython\n",
    "\n",
    "@cython.boundscheck(False)\n",
    "@cython.wraparound(False)\n",
    "@cython.initializedcheck(False) \n",
    "cdef loop_tariff_cython(long[:] hour_array, double[:] energy_kwh_array, double[:] cost_cents_array):\n",
    "\n",
    "    cdef: \n",
    "        int i, rate\n",
    "        long hour\n",
    "        int df_len = hour_array.shape[0]\n",
    "\n",
    "    for i in range(df_len):\n",
    "        hour = hour_array[i]\n",
    "        if 0 <= hour < 7:\n",
    "            rate = 12\n",
    "        elif 7 <= hour < 17:\n",
    "            rate = 20\n",
    "        else:\n",
    "            rate = 28\n",
    "        cost_cents_array[i] = rate * energy_kwh_array[i]\n",
    "        \n",
    "        \n",
    "cpdef compute_cost_cython(df):\n",
    "\n",
    "    df['cost_cents'] = 0.0\n",
    "    hour_array = df.date_time.dt.hour.values\n",
    "    if (hour_array.min() < 0) or (hour_array.max() > 23):\n",
    "        raise ValueError(f'Invalid hour values')\n",
    "\n",
    "    loop_tariff_cython(hour_array, df.energy_kwh.values, df.cost_cents.values)"
   ]
  },
  {
   "cell_type": "code",
   "execution_count": null,
   "metadata": {},
   "outputs": [],
   "source": [
    "result = %timeit -r 3 -n 100 -o compute_cost_cython(df)\n",
    "timeit['Cython'] = result.best"
   ]
  },
  {
   "cell_type": "code",
   "execution_count": null,
   "metadata": {},
   "outputs": [],
   "source": [
    "assert np.allclose(df.cost_cents.values, df.cost_cents_ref.values)\n",
    "df.drop('cost_cents', axis=1, inplace=True)"
   ]
  },
  {
   "cell_type": "markdown",
   "metadata": {},
   "source": [
    "Run time is too short to try multithreading the Cython loop with openMP. However that would be very interesting to try on a larger dataframe with heavier computations performed inside the loop."
   ]
  },
  {
   "cell_type": "markdown",
   "metadata": {},
   "source": [
    "## 8. Numba"
   ]
  },
  {
   "cell_type": "code",
   "execution_count": null,
   "metadata": {},
   "outputs": [],
   "source": [
    "def loop_tariff_numba(hour_array, energy_kwh_array, cost_cents_array):\n",
    "\n",
    "    df_len = hour_array.shape[0]\n",
    "\n",
    "    for i in range(df_len):\n",
    "        hour = hour_array[i]\n",
    "        if 0 <= hour < 7:\n",
    "            rate = 12\n",
    "        elif 7 <= hour < 17:\n",
    "            rate = 20\n",
    "        else:\n",
    "            rate = 28\n",
    "        cost_cents_array[i] = rate * energy_kwh_array[i]\n",
    "\n",
    "loop_tariff_numba = jit(loop_tariff_numba)\n",
    "        \n",
    "def compute_cost_numba(df):\n",
    "\n",
    "    df['cost_cents'] = 0.0\n",
    "    hour_array = df.date_time.dt.hour.values\n",
    "    if (hour_array.min() < 0) or (hour_array.max() > 23):\n",
    "        raise ValueError(f'Invalid hour values')\n",
    "\n",
    "    loop_tariff_numba(hour_array, df.energy_kwh.values, df.cost_cents.values)"
   ]
  },
  {
   "cell_type": "code",
   "execution_count": null,
   "metadata": {},
   "outputs": [],
   "source": [
    "result = %timeit -r 3 -n 100 -o compute_cost_numba(df)\n",
    "timeit['Numba'] = result.best"
   ]
  },
  {
   "cell_type": "code",
   "execution_count": null,
   "metadata": {},
   "outputs": [],
   "source": [
    "assert np.allclose(df.cost_cents.values, df.cost_cents_ref.values)\n",
    "df.drop('cost_cents', axis=1, inplace=True)"
   ]
  },
  {
   "cell_type": "markdown",
   "metadata": {},
   "source": [
    "## Conclusion"
   ]
  },
  {
   "cell_type": "markdown",
   "metadata": {},
   "source": [
    "Well we have many options to loop over Pandas data (we did not try them all!) and a large range of performance results: from 0.0005s to 2s for some very simple computations.\n",
    "\n",
    "At first I would use Pandas' `.itertuples()` when prototyping a code. This is rather intuitive and efficient. Then, if I notice that a huge amount of time is spent on the loop part, I would start dealing directly with Numpy arrays from the dataframe's columns. I am surprised to see how efficient is the `vectorize()` method. \n",
    "\n",
    "Remember that the dataframe that we are using in the present case is really small. The discrepancy observed here could correspond to many minutes on large dataframes!! However, optimizing can also take a long time or lead to complex issues...\n",
    "\n",
    "I am really pleased to see that Numba and Cython exhibit equivalent performance! I am used to profile my code and cythonize the slow parts (using memory views to update the dataframes and openMP to multithread). But this is really more work than using Numba, for a similar reward! However, I do not know yet if you can address all kinds of problems with Numba with the same efficiency? Numba is definitely the best option when dealing with standard array-based operations. I am not sure that it can be as efficient as Cython on other data structures such as heaps for example."
   ]
  },
  {
   "cell_type": "code",
   "execution_count": null,
   "metadata": {},
   "outputs": [],
   "source": [
    "matplotlib.rcParams.update({'font.size': 20})\n",
    "plt.figure(figsize=(14, 7))\n",
    "plt.semilogx(list(timeit.values()), list(timeit.keys()), 'ko', markersize=20)\n",
    "plt.xlabel(\"Elapsed time (s)\")"
   ]
  },
  {
   "cell_type": "code",
   "execution_count": null,
   "metadata": {},
   "outputs": [],
   "source": [
    "timeit"
   ]
  }
 ],
 "metadata": {
  "kernelspec": {
   "display_name": "Python 3",
   "language": "python",
   "name": "python3"
  },
  "language_info": {
   "codemirror_mode": {
    "name": "ipython",
    "version": 3
   },
   "file_extension": ".py",
   "mimetype": "text/x-python",
   "name": "python",
   "nbconvert_exporter": "python",
   "pygments_lexer": "ipython3",
   "version": "3.7.0"
  }
 },
 "nbformat": 4,
 "nbformat_minor": 2
}
