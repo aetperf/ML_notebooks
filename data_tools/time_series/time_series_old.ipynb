{
 "cells": [
  {
   "cell_type": "markdown",
   "metadata": {},
   "source": [
    "# Timeseries\n",
    "\n",
    "This whole notebook is taken from [*Modern Pandas (Part 7)*](https://tomaugspurger.github.io/) by Tom Augspurger (Anaconda, Inc). Just added one import for pandas_datareader in order to grab some data from yahoo finance.\n",
    "\n",
    "[https://github.com/TomAugspurger](https://github.com/TomAugspurger)\n",
    "\n",
    "[https://www.linkedin.com/in/tom-augspurger-01269315/](https://www.linkedin.com/in/tom-augspurger-01269315/)\n",
    "\n",
    "[https://twitter.com/tomaugspurger](https://twitter.com/tomaugspurger)\n",
    "\n",
    "## Timeseries\n",
    "\n",
    "Pandas started out in the financial world, so naturally it has strong timeseries support.\n",
    "\n",
    "The first half of this post will look at pandas' capabilities for manipulating time series data. The second half will discuss modelling time series data with statsmodels."
   ]
  },
  {
   "cell_type": "code",
   "execution_count": 1,
   "metadata": {},
   "outputs": [],
   "source": [
    "%matplotlib inline\n",
    "import warnings\n",
    "warnings.filterwarnings(\"ignore\")  # ignore 'FutureWarning: Panel is deprecated and will be removed in a future version.'\n",
    "import numpy as np  # 1.14.3\n",
    "import pandas as pd  # 0.23.0\n",
    "\n",
    "pd.core.common.is_list_like = pd.api.types.is_list_like\n",
    "import pandas_datareader.data as pdr  # pip install pandas_datareader==0.6.0\n",
    "import fix_yahoo_finance as yf  # pip install fix_yahoo_finance==0.0.21\n",
    "yf.pdr_override()\n",
    "\n",
    "import seaborn as sns  # 0.8.1\n",
    "import matplotlib.pyplot as plt  # 2.2.2\n",
    "sns.set(style='ticks', context='talk')"
   ]
  },
  {
   "cell_type": "markdown",
   "metadata": {},
   "source": [
    "Let's grab some stock data for Goldman Sachs using the [pandas-datareader](http://pandas-datareader.readthedocs.io/en/latest/) package, which spun off of pandas:"
   ]
  },
  {
   "cell_type": "code",
   "execution_count": 2,
   "metadata": {},
   "outputs": [
    {
     "name": "stdout",
     "output_type": "stream",
     "text": [
      "[*********************100%***********************]  1 of 1 downloaded\n"
     ]
    },
    {
     "data": {
      "text/html": [
       "<div>\n",
       "<style scoped>\n",
       "    .dataframe tbody tr th:only-of-type {\n",
       "        vertical-align: middle;\n",
       "    }\n",
       "\n",
       "    .dataframe tbody tr th {\n",
       "        vertical-align: top;\n",
       "    }\n",
       "\n",
       "    .dataframe thead th {\n",
       "        text-align: right;\n",
       "    }\n",
       "</style>\n",
       "<table border=\"1\" class=\"dataframe\">\n",
       "  <thead>\n",
       "    <tr style=\"text-align: right;\">\n",
       "      <th></th>\n",
       "      <th>Open</th>\n",
       "      <th>High</th>\n",
       "      <th>Low</th>\n",
       "      <th>Close</th>\n",
       "      <th>Adj Close</th>\n",
       "      <th>Volume</th>\n",
       "    </tr>\n",
       "    <tr>\n",
       "      <th>Date</th>\n",
       "      <th></th>\n",
       "      <th></th>\n",
       "      <th></th>\n",
       "      <th></th>\n",
       "      <th></th>\n",
       "      <th></th>\n",
       "    </tr>\n",
       "  </thead>\n",
       "  <tbody>\n",
       "    <tr>\n",
       "      <th>2006-01-03</th>\n",
       "      <td>126.699997</td>\n",
       "      <td>129.440002</td>\n",
       "      <td>124.230003</td>\n",
       "      <td>128.869995</td>\n",
       "      <td>111.672585</td>\n",
       "      <td>6188700</td>\n",
       "    </tr>\n",
       "    <tr>\n",
       "      <th>2006-01-04</th>\n",
       "      <td>127.349998</td>\n",
       "      <td>128.910004</td>\n",
       "      <td>126.379997</td>\n",
       "      <td>127.089996</td>\n",
       "      <td>110.130142</td>\n",
       "      <td>4861600</td>\n",
       "    </tr>\n",
       "    <tr>\n",
       "      <th>2006-01-05</th>\n",
       "      <td>126.000000</td>\n",
       "      <td>127.320000</td>\n",
       "      <td>125.610001</td>\n",
       "      <td>127.040001</td>\n",
       "      <td>110.086807</td>\n",
       "      <td>3717400</td>\n",
       "    </tr>\n",
       "    <tr>\n",
       "      <th>2006-01-06</th>\n",
       "      <td>127.290001</td>\n",
       "      <td>129.250000</td>\n",
       "      <td>127.290001</td>\n",
       "      <td>128.839996</td>\n",
       "      <td>111.646584</td>\n",
       "      <td>4319600</td>\n",
       "    </tr>\n",
       "    <tr>\n",
       "      <th>2006-01-09</th>\n",
       "      <td>128.500000</td>\n",
       "      <td>130.619995</td>\n",
       "      <td>128.000000</td>\n",
       "      <td>130.389999</td>\n",
       "      <td>112.989769</td>\n",
       "      <td>4723500</td>\n",
       "    </tr>\n",
       "  </tbody>\n",
       "</table>\n",
       "</div>"
      ],
      "text/plain": [
       "                  Open        High         Low       Close   Adj Close  \\\n",
       "Date                                                                     \n",
       "2006-01-03  126.699997  129.440002  124.230003  128.869995  111.672585   \n",
       "2006-01-04  127.349998  128.910004  126.379997  127.089996  110.130142   \n",
       "2006-01-05  126.000000  127.320000  125.610001  127.040001  110.086807   \n",
       "2006-01-06  127.290001  129.250000  127.290001  128.839996  111.646584   \n",
       "2006-01-09  128.500000  130.619995  128.000000  130.389999  112.989769   \n",
       "\n",
       "             Volume  \n",
       "Date                 \n",
       "2006-01-03  6188700  \n",
       "2006-01-04  4861600  \n",
       "2006-01-05  3717400  \n",
       "2006-01-06  4319600  \n",
       "2006-01-09  4723500  "
      ]
     },
     "execution_count": 2,
     "metadata": {},
     "output_type": "execute_result"
    }
   ],
   "source": [
    "gs = pdr.get_data_yahoo(\"GS\", start=\"2006-01-01\", end=\"2010-01-01\")\n",
    "gs.head()"
   ]
  },
  {
   "cell_type": "markdown",
   "metadata": {},
   "source": [
    "There isn't a special data-container just for time series in pandas, they're just `Series` or `DataFrames` with a `DatetimeIndex`.\n",
    "\n",
    "## Special Slicing\n",
    "\n",
    "Looking at the elements of `gs.index`, we see that `DatetimeIndex`es are made up of `pandas.Timestamp`s:"
   ]
  },
  {
   "cell_type": "code",
   "execution_count": 3,
   "metadata": {},
   "outputs": [
    {
     "data": {
      "text/plain": [
       "Timestamp('2006-01-03 00:00:00')"
      ]
     },
     "execution_count": 3,
     "metadata": {},
     "output_type": "execute_result"
    }
   ],
   "source": [
    "gs.index[0]"
   ]
  },
  {
   "cell_type": "markdown",
   "metadata": {},
   "source": [
    "A `Timestamp` is mostly compatible with the `datetime.datetime` class, but much amenable to storage in arrays.\n",
    "\n",
    "Working with `Timestamp`s can be awkward, so Series and DataFrames with `DatetimeIndex`es have some special slicing rules. The first special case is *partial-string indexing*. Say we wanted to select all the days in 2006. Even with `Timestamp`'s convenient constructors, it's a pain:"
   ]
  },
  {
   "cell_type": "code",
   "execution_count": 4,
   "metadata": {},
   "outputs": [
    {
     "data": {
      "text/html": [
       "<div>\n",
       "<style scoped>\n",
       "    .dataframe tbody tr th:only-of-type {\n",
       "        vertical-align: middle;\n",
       "    }\n",
       "\n",
       "    .dataframe tbody tr th {\n",
       "        vertical-align: top;\n",
       "    }\n",
       "\n",
       "    .dataframe thead th {\n",
       "        text-align: right;\n",
       "    }\n",
       "</style>\n",
       "<table border=\"1\" class=\"dataframe\">\n",
       "  <thead>\n",
       "    <tr style=\"text-align: right;\">\n",
       "      <th></th>\n",
       "      <th>Open</th>\n",
       "      <th>High</th>\n",
       "      <th>Low</th>\n",
       "      <th>Close</th>\n",
       "      <th>Adj Close</th>\n",
       "      <th>Volume</th>\n",
       "    </tr>\n",
       "    <tr>\n",
       "      <th>Date</th>\n",
       "      <th></th>\n",
       "      <th></th>\n",
       "      <th></th>\n",
       "      <th></th>\n",
       "      <th></th>\n",
       "      <th></th>\n",
       "    </tr>\n",
       "  </thead>\n",
       "  <tbody>\n",
       "    <tr>\n",
       "      <th>2006-01-03</th>\n",
       "      <td>126.699997</td>\n",
       "      <td>129.440002</td>\n",
       "      <td>124.230003</td>\n",
       "      <td>128.869995</td>\n",
       "      <td>111.672585</td>\n",
       "      <td>6188700</td>\n",
       "    </tr>\n",
       "    <tr>\n",
       "      <th>2006-01-04</th>\n",
       "      <td>127.349998</td>\n",
       "      <td>128.910004</td>\n",
       "      <td>126.379997</td>\n",
       "      <td>127.089996</td>\n",
       "      <td>110.130142</td>\n",
       "      <td>4861600</td>\n",
       "    </tr>\n",
       "    <tr>\n",
       "      <th>2006-01-05</th>\n",
       "      <td>126.000000</td>\n",
       "      <td>127.320000</td>\n",
       "      <td>125.610001</td>\n",
       "      <td>127.040001</td>\n",
       "      <td>110.086807</td>\n",
       "      <td>3717400</td>\n",
       "    </tr>\n",
       "    <tr>\n",
       "      <th>2006-01-06</th>\n",
       "      <td>127.290001</td>\n",
       "      <td>129.250000</td>\n",
       "      <td>127.290001</td>\n",
       "      <td>128.839996</td>\n",
       "      <td>111.646584</td>\n",
       "      <td>4319600</td>\n",
       "    </tr>\n",
       "    <tr>\n",
       "      <th>2006-01-09</th>\n",
       "      <td>128.500000</td>\n",
       "      <td>130.619995</td>\n",
       "      <td>128.000000</td>\n",
       "      <td>130.389999</td>\n",
       "      <td>112.989769</td>\n",
       "      <td>4723500</td>\n",
       "    </tr>\n",
       "  </tbody>\n",
       "</table>\n",
       "</div>"
      ],
      "text/plain": [
       "                  Open        High         Low       Close   Adj Close  \\\n",
       "Date                                                                     \n",
       "2006-01-03  126.699997  129.440002  124.230003  128.869995  111.672585   \n",
       "2006-01-04  127.349998  128.910004  126.379997  127.089996  110.130142   \n",
       "2006-01-05  126.000000  127.320000  125.610001  127.040001  110.086807   \n",
       "2006-01-06  127.290001  129.250000  127.290001  128.839996  111.646584   \n",
       "2006-01-09  128.500000  130.619995  128.000000  130.389999  112.989769   \n",
       "\n",
       "             Volume  \n",
       "Date                 \n",
       "2006-01-03  6188700  \n",
       "2006-01-04  4861600  \n",
       "2006-01-05  3717400  \n",
       "2006-01-06  4319600  \n",
       "2006-01-09  4723500  "
      ]
     },
     "execution_count": 4,
     "metadata": {},
     "output_type": "execute_result"
    }
   ],
   "source": [
    "gs.loc[pd.Timestamp('2006-01-01'):pd.Timestamp('2006-12-31')].head()"
   ]
  },
  {
   "cell_type": "markdown",
   "metadata": {},
   "source": [
    "Thanks to partial-string indexing, it's as simple as:"
   ]
  },
  {
   "cell_type": "code",
   "execution_count": 5,
   "metadata": {},
   "outputs": [
    {
     "data": {
      "text/html": [
       "<div>\n",
       "<style scoped>\n",
       "    .dataframe tbody tr th:only-of-type {\n",
       "        vertical-align: middle;\n",
       "    }\n",
       "\n",
       "    .dataframe tbody tr th {\n",
       "        vertical-align: top;\n",
       "    }\n",
       "\n",
       "    .dataframe thead th {\n",
       "        text-align: right;\n",
       "    }\n",
       "</style>\n",
       "<table border=\"1\" class=\"dataframe\">\n",
       "  <thead>\n",
       "    <tr style=\"text-align: right;\">\n",
       "      <th></th>\n",
       "      <th>Open</th>\n",
       "      <th>High</th>\n",
       "      <th>Low</th>\n",
       "      <th>Close</th>\n",
       "      <th>Adj Close</th>\n",
       "      <th>Volume</th>\n",
       "    </tr>\n",
       "    <tr>\n",
       "      <th>Date</th>\n",
       "      <th></th>\n",
       "      <th></th>\n",
       "      <th></th>\n",
       "      <th></th>\n",
       "      <th></th>\n",
       "      <th></th>\n",
       "    </tr>\n",
       "  </thead>\n",
       "  <tbody>\n",
       "    <tr>\n",
       "      <th>2006-01-03</th>\n",
       "      <td>126.699997</td>\n",
       "      <td>129.440002</td>\n",
       "      <td>124.230003</td>\n",
       "      <td>128.869995</td>\n",
       "      <td>111.672585</td>\n",
       "      <td>6188700</td>\n",
       "    </tr>\n",
       "    <tr>\n",
       "      <th>2006-01-04</th>\n",
       "      <td>127.349998</td>\n",
       "      <td>128.910004</td>\n",
       "      <td>126.379997</td>\n",
       "      <td>127.089996</td>\n",
       "      <td>110.130142</td>\n",
       "      <td>4861600</td>\n",
       "    </tr>\n",
       "    <tr>\n",
       "      <th>2006-01-05</th>\n",
       "      <td>126.000000</td>\n",
       "      <td>127.320000</td>\n",
       "      <td>125.610001</td>\n",
       "      <td>127.040001</td>\n",
       "      <td>110.086807</td>\n",
       "      <td>3717400</td>\n",
       "    </tr>\n",
       "    <tr>\n",
       "      <th>2006-01-06</th>\n",
       "      <td>127.290001</td>\n",
       "      <td>129.250000</td>\n",
       "      <td>127.290001</td>\n",
       "      <td>128.839996</td>\n",
       "      <td>111.646584</td>\n",
       "      <td>4319600</td>\n",
       "    </tr>\n",
       "    <tr>\n",
       "      <th>2006-01-09</th>\n",
       "      <td>128.500000</td>\n",
       "      <td>130.619995</td>\n",
       "      <td>128.000000</td>\n",
       "      <td>130.389999</td>\n",
       "      <td>112.989769</td>\n",
       "      <td>4723500</td>\n",
       "    </tr>\n",
       "  </tbody>\n",
       "</table>\n",
       "</div>"
      ],
      "text/plain": [
       "                  Open        High         Low       Close   Adj Close  \\\n",
       "Date                                                                     \n",
       "2006-01-03  126.699997  129.440002  124.230003  128.869995  111.672585   \n",
       "2006-01-04  127.349998  128.910004  126.379997  127.089996  110.130142   \n",
       "2006-01-05  126.000000  127.320000  125.610001  127.040001  110.086807   \n",
       "2006-01-06  127.290001  129.250000  127.290001  128.839996  111.646584   \n",
       "2006-01-09  128.500000  130.619995  128.000000  130.389999  112.989769   \n",
       "\n",
       "             Volume  \n",
       "Date                 \n",
       "2006-01-03  6188700  \n",
       "2006-01-04  4861600  \n",
       "2006-01-05  3717400  \n",
       "2006-01-06  4319600  \n",
       "2006-01-09  4723500  "
      ]
     },
     "execution_count": 5,
     "metadata": {},
     "output_type": "execute_result"
    }
   ],
   "source": [
    "gs.loc['2006'].head()"
   ]
  },
  {
   "cell_type": "markdown",
   "metadata": {},
   "source": [
    "Since label slicing is inclusive, this slice selects any observation where the year is 2006.\n",
    "\n",
    "The second \"convenience\" is `__getitem__` (square-bracket) fall-back indexing. I'm only going to mention it here, with the caveat that you should never use it. DataFrame `__getitem__` typically looks in the column: `gs['2006']` would search `gs.columns` for `'2006'`, not find it, and raise a `KeyError`. But DataFrames with a `DatetimeIndex` catch that `KeyError` and try to slice the index. If it succeeds in slicing the index, the result like `gs.loc['2006']` is returned. If it fails, the `KeyError` is re-raised. This is confusing because in pretty much every other case `DataFrame.__getitem__` works on columns, and it's fragile because if you happened to have a column `'2006'` you would get just that column, and no fall-back indexing would occur. Just use `gs.loc['2006']` when slicing DataFrame indexes."
   ]
  },
  {
   "cell_type": "markdown",
   "metadata": {},
   "source": [
    "## Special Methods\n",
    "\n",
    "### Resampling\n",
    "\n",
    "Resampling is similar to a `groupby`: you split the time series into groups (5-day buckets below), apply a function to each group (`mean`), and combine the result (one row per group)."
   ]
  },
  {
   "cell_type": "code",
   "execution_count": 6,
   "metadata": {},
   "outputs": [
    {
     "data": {
      "text/html": [
       "<div>\n",
       "<style scoped>\n",
       "    .dataframe tbody tr th:only-of-type {\n",
       "        vertical-align: middle;\n",
       "    }\n",
       "\n",
       "    .dataframe tbody tr th {\n",
       "        vertical-align: top;\n",
       "    }\n",
       "\n",
       "    .dataframe thead th {\n",
       "        text-align: right;\n",
       "    }\n",
       "</style>\n",
       "<table border=\"1\" class=\"dataframe\">\n",
       "  <thead>\n",
       "    <tr style=\"text-align: right;\">\n",
       "      <th></th>\n",
       "      <th>Open</th>\n",
       "      <th>High</th>\n",
       "      <th>Low</th>\n",
       "      <th>Close</th>\n",
       "      <th>Adj Close</th>\n",
       "      <th>Volume</th>\n",
       "    </tr>\n",
       "    <tr>\n",
       "      <th>Date</th>\n",
       "      <th></th>\n",
       "      <th></th>\n",
       "      <th></th>\n",
       "      <th></th>\n",
       "      <th></th>\n",
       "      <th></th>\n",
       "    </tr>\n",
       "  </thead>\n",
       "  <tbody>\n",
       "    <tr>\n",
       "      <th>2006-01-03</th>\n",
       "      <td>126.834999</td>\n",
       "      <td>128.730002</td>\n",
       "      <td>125.877501</td>\n",
       "      <td>127.959997</td>\n",
       "      <td>110.884030</td>\n",
       "      <td>4.771825e+06</td>\n",
       "    </tr>\n",
       "    <tr>\n",
       "      <th>2006-01-08</th>\n",
       "      <td>130.349998</td>\n",
       "      <td>132.645000</td>\n",
       "      <td>130.205002</td>\n",
       "      <td>131.660000</td>\n",
       "      <td>114.090290</td>\n",
       "      <td>4.664300e+06</td>\n",
       "    </tr>\n",
       "    <tr>\n",
       "      <th>2006-01-13</th>\n",
       "      <td>131.510002</td>\n",
       "      <td>133.395005</td>\n",
       "      <td>131.244995</td>\n",
       "      <td>132.924995</td>\n",
       "      <td>115.186458</td>\n",
       "      <td>3.258250e+06</td>\n",
       "    </tr>\n",
       "    <tr>\n",
       "      <th>2006-01-18</th>\n",
       "      <td>132.210002</td>\n",
       "      <td>133.853333</td>\n",
       "      <td>131.656667</td>\n",
       "      <td>132.543335</td>\n",
       "      <td>114.926798</td>\n",
       "      <td>4.997767e+06</td>\n",
       "    </tr>\n",
       "    <tr>\n",
       "      <th>2006-01-23</th>\n",
       "      <td>133.771997</td>\n",
       "      <td>136.083997</td>\n",
       "      <td>133.310001</td>\n",
       "      <td>135.153998</td>\n",
       "      <td>117.337241</td>\n",
       "      <td>3.968500e+06</td>\n",
       "    </tr>\n",
       "  </tbody>\n",
       "</table>\n",
       "</div>"
      ],
      "text/plain": [
       "                  Open        High         Low       Close   Adj Close  \\\n",
       "Date                                                                     \n",
       "2006-01-03  126.834999  128.730002  125.877501  127.959997  110.884030   \n",
       "2006-01-08  130.349998  132.645000  130.205002  131.660000  114.090290   \n",
       "2006-01-13  131.510002  133.395005  131.244995  132.924995  115.186458   \n",
       "2006-01-18  132.210002  133.853333  131.656667  132.543335  114.926798   \n",
       "2006-01-23  133.771997  136.083997  133.310001  135.153998  117.337241   \n",
       "\n",
       "                  Volume  \n",
       "Date                      \n",
       "2006-01-03  4.771825e+06  \n",
       "2006-01-08  4.664300e+06  \n",
       "2006-01-13  3.258250e+06  \n",
       "2006-01-18  4.997767e+06  \n",
       "2006-01-23  3.968500e+06  "
      ]
     },
     "execution_count": 6,
     "metadata": {},
     "output_type": "execute_result"
    }
   ],
   "source": [
    "gs.resample(\"5d\").mean().head()"
   ]
  },
  {
   "cell_type": "code",
   "execution_count": 7,
   "metadata": {},
   "outputs": [
    {
     "data": {
      "text/html": [
       "<div>\n",
       "<style scoped>\n",
       "    .dataframe tbody tr th:only-of-type {\n",
       "        vertical-align: middle;\n",
       "    }\n",
       "\n",
       "    .dataframe tbody tr th {\n",
       "        vertical-align: top;\n",
       "    }\n",
       "\n",
       "    .dataframe thead tr th {\n",
       "        text-align: left;\n",
       "    }\n",
       "\n",
       "    .dataframe thead tr:last-of-type th {\n",
       "        text-align: right;\n",
       "    }\n",
       "</style>\n",
       "<table border=\"1\" class=\"dataframe\">\n",
       "  <thead>\n",
       "    <tr>\n",
       "      <th></th>\n",
       "      <th colspan=\"2\" halign=\"left\">Open</th>\n",
       "      <th colspan=\"2\" halign=\"left\">High</th>\n",
       "      <th colspan=\"2\" halign=\"left\">Low</th>\n",
       "      <th colspan=\"2\" halign=\"left\">Close</th>\n",
       "      <th colspan=\"2\" halign=\"left\">Adj Close</th>\n",
       "      <th colspan=\"2\" halign=\"left\">Volume</th>\n",
       "    </tr>\n",
       "    <tr>\n",
       "      <th></th>\n",
       "      <th>mean</th>\n",
       "      <th>sum</th>\n",
       "      <th>mean</th>\n",
       "      <th>sum</th>\n",
       "      <th>mean</th>\n",
       "      <th>sum</th>\n",
       "      <th>mean</th>\n",
       "      <th>sum</th>\n",
       "      <th>mean</th>\n",
       "      <th>sum</th>\n",
       "      <th>mean</th>\n",
       "      <th>sum</th>\n",
       "    </tr>\n",
       "    <tr>\n",
       "      <th>Date</th>\n",
       "      <th></th>\n",
       "      <th></th>\n",
       "      <th></th>\n",
       "      <th></th>\n",
       "      <th></th>\n",
       "      <th></th>\n",
       "      <th></th>\n",
       "      <th></th>\n",
       "      <th></th>\n",
       "      <th></th>\n",
       "      <th></th>\n",
       "      <th></th>\n",
       "    </tr>\n",
       "  </thead>\n",
       "  <tbody>\n",
       "    <tr>\n",
       "      <th>2006-01-08</th>\n",
       "      <td>126.834999</td>\n",
       "      <td>507.339996</td>\n",
       "      <td>128.730002</td>\n",
       "      <td>514.920006</td>\n",
       "      <td>125.877501</td>\n",
       "      <td>503.510002</td>\n",
       "      <td>127.959997</td>\n",
       "      <td>511.839988</td>\n",
       "      <td>110.884030</td>\n",
       "      <td>443.536118</td>\n",
       "      <td>4771825.0</td>\n",
       "      <td>19087300</td>\n",
       "    </tr>\n",
       "    <tr>\n",
       "      <th>2006-01-15</th>\n",
       "      <td>130.684000</td>\n",
       "      <td>653.419998</td>\n",
       "      <td>132.848001</td>\n",
       "      <td>664.240006</td>\n",
       "      <td>130.544000</td>\n",
       "      <td>652.720001</td>\n",
       "      <td>131.979999</td>\n",
       "      <td>659.899994</td>\n",
       "      <td>114.367583</td>\n",
       "      <td>571.837913</td>\n",
       "      <td>4310420.0</td>\n",
       "      <td>21552100</td>\n",
       "    </tr>\n",
       "    <tr>\n",
       "      <th>2006-01-22</th>\n",
       "      <td>131.907501</td>\n",
       "      <td>527.630005</td>\n",
       "      <td>133.672501</td>\n",
       "      <td>534.690003</td>\n",
       "      <td>131.389999</td>\n",
       "      <td>525.559998</td>\n",
       "      <td>132.555000</td>\n",
       "      <td>530.220000</td>\n",
       "      <td>114.919140</td>\n",
       "      <td>459.676559</td>\n",
       "      <td>4653725.0</td>\n",
       "      <td>18614900</td>\n",
       "    </tr>\n",
       "    <tr>\n",
       "      <th>2006-01-29</th>\n",
       "      <td>133.771997</td>\n",
       "      <td>668.859986</td>\n",
       "      <td>136.083997</td>\n",
       "      <td>680.419983</td>\n",
       "      <td>133.310001</td>\n",
       "      <td>666.550003</td>\n",
       "      <td>135.153998</td>\n",
       "      <td>675.769989</td>\n",
       "      <td>117.337241</td>\n",
       "      <td>586.686203</td>\n",
       "      <td>3968500.0</td>\n",
       "      <td>19842500</td>\n",
       "    </tr>\n",
       "    <tr>\n",
       "      <th>2006-02-05</th>\n",
       "      <td>140.900000</td>\n",
       "      <td>704.500000</td>\n",
       "      <td>142.467999</td>\n",
       "      <td>712.339996</td>\n",
       "      <td>139.937998</td>\n",
       "      <td>699.689988</td>\n",
       "      <td>141.618002</td>\n",
       "      <td>708.090011</td>\n",
       "      <td>122.949094</td>\n",
       "      <td>614.745468</td>\n",
       "      <td>3920120.0</td>\n",
       "      <td>19600600</td>\n",
       "    </tr>\n",
       "  </tbody>\n",
       "</table>\n",
       "</div>"
      ],
      "text/plain": [
       "                  Open                    High                     Low  \\\n",
       "                  mean         sum        mean         sum        mean   \n",
       "Date                                                                     \n",
       "2006-01-08  126.834999  507.339996  128.730002  514.920006  125.877501   \n",
       "2006-01-15  130.684000  653.419998  132.848001  664.240006  130.544000   \n",
       "2006-01-22  131.907501  527.630005  133.672501  534.690003  131.389999   \n",
       "2006-01-29  133.771997  668.859986  136.083997  680.419983  133.310001   \n",
       "2006-02-05  140.900000  704.500000  142.467999  712.339996  139.937998   \n",
       "\n",
       "                             Close               Adj Close              \\\n",
       "                   sum        mean         sum        mean         sum   \n",
       "Date                                                                     \n",
       "2006-01-08  503.510002  127.959997  511.839988  110.884030  443.536118   \n",
       "2006-01-15  652.720001  131.979999  659.899994  114.367583  571.837913   \n",
       "2006-01-22  525.559998  132.555000  530.220000  114.919140  459.676559   \n",
       "2006-01-29  666.550003  135.153998  675.769989  117.337241  586.686203   \n",
       "2006-02-05  699.689988  141.618002  708.090011  122.949094  614.745468   \n",
       "\n",
       "               Volume            \n",
       "                 mean       sum  \n",
       "Date                             \n",
       "2006-01-08  4771825.0  19087300  \n",
       "2006-01-15  4310420.0  21552100  \n",
       "2006-01-22  4653725.0  18614900  \n",
       "2006-01-29  3968500.0  19842500  \n",
       "2006-02-05  3920120.0  19600600  "
      ]
     },
     "execution_count": 7,
     "metadata": {},
     "output_type": "execute_result"
    }
   ],
   "source": [
    "gs.resample(\"W\").agg(['mean', 'sum']).head()"
   ]
  },
  {
   "cell_type": "markdown",
   "metadata": {},
   "source": [
    "You can up-sample to convert to a higher frequency. The new points are filled with NaNs."
   ]
  },
  {
   "cell_type": "code",
   "execution_count": 8,
   "metadata": {},
   "outputs": [
    {
     "data": {
      "text/html": [
       "<div>\n",
       "<style scoped>\n",
       "    .dataframe tbody tr th:only-of-type {\n",
       "        vertical-align: middle;\n",
       "    }\n",
       "\n",
       "    .dataframe tbody tr th {\n",
       "        vertical-align: top;\n",
       "    }\n",
       "\n",
       "    .dataframe thead th {\n",
       "        text-align: right;\n",
       "    }\n",
       "</style>\n",
       "<table border=\"1\" class=\"dataframe\">\n",
       "  <thead>\n",
       "    <tr style=\"text-align: right;\">\n",
       "      <th></th>\n",
       "      <th>Open</th>\n",
       "      <th>High</th>\n",
       "      <th>Low</th>\n",
       "      <th>Close</th>\n",
       "      <th>Adj Close</th>\n",
       "      <th>Volume</th>\n",
       "    </tr>\n",
       "    <tr>\n",
       "      <th>Date</th>\n",
       "      <th></th>\n",
       "      <th></th>\n",
       "      <th></th>\n",
       "      <th></th>\n",
       "      <th></th>\n",
       "      <th></th>\n",
       "    </tr>\n",
       "  </thead>\n",
       "  <tbody>\n",
       "    <tr>\n",
       "      <th>2006-01-03 00:00:00</th>\n",
       "      <td>126.699997</td>\n",
       "      <td>129.440002</td>\n",
       "      <td>124.230003</td>\n",
       "      <td>128.869995</td>\n",
       "      <td>111.672585</td>\n",
       "      <td>6188700.0</td>\n",
       "    </tr>\n",
       "    <tr>\n",
       "      <th>2006-01-03 06:00:00</th>\n",
       "      <td>NaN</td>\n",
       "      <td>NaN</td>\n",
       "      <td>NaN</td>\n",
       "      <td>NaN</td>\n",
       "      <td>NaN</td>\n",
       "      <td>NaN</td>\n",
       "    </tr>\n",
       "    <tr>\n",
       "      <th>2006-01-03 12:00:00</th>\n",
       "      <td>NaN</td>\n",
       "      <td>NaN</td>\n",
       "      <td>NaN</td>\n",
       "      <td>NaN</td>\n",
       "      <td>NaN</td>\n",
       "      <td>NaN</td>\n",
       "    </tr>\n",
       "    <tr>\n",
       "      <th>2006-01-03 18:00:00</th>\n",
       "      <td>NaN</td>\n",
       "      <td>NaN</td>\n",
       "      <td>NaN</td>\n",
       "      <td>NaN</td>\n",
       "      <td>NaN</td>\n",
       "      <td>NaN</td>\n",
       "    </tr>\n",
       "    <tr>\n",
       "      <th>2006-01-04 00:00:00</th>\n",
       "      <td>127.349998</td>\n",
       "      <td>128.910004</td>\n",
       "      <td>126.379997</td>\n",
       "      <td>127.089996</td>\n",
       "      <td>110.130142</td>\n",
       "      <td>4861600.0</td>\n",
       "    </tr>\n",
       "  </tbody>\n",
       "</table>\n",
       "</div>"
      ],
      "text/plain": [
       "                           Open        High         Low       Close  \\\n",
       "Date                                                                  \n",
       "2006-01-03 00:00:00  126.699997  129.440002  124.230003  128.869995   \n",
       "2006-01-03 06:00:00         NaN         NaN         NaN         NaN   \n",
       "2006-01-03 12:00:00         NaN         NaN         NaN         NaN   \n",
       "2006-01-03 18:00:00         NaN         NaN         NaN         NaN   \n",
       "2006-01-04 00:00:00  127.349998  128.910004  126.379997  127.089996   \n",
       "\n",
       "                      Adj Close     Volume  \n",
       "Date                                        \n",
       "2006-01-03 00:00:00  111.672585  6188700.0  \n",
       "2006-01-03 06:00:00         NaN        NaN  \n",
       "2006-01-03 12:00:00         NaN        NaN  \n",
       "2006-01-03 18:00:00         NaN        NaN  \n",
       "2006-01-04 00:00:00  110.130142  4861600.0  "
      ]
     },
     "execution_count": 8,
     "metadata": {},
     "output_type": "execute_result"
    }
   ],
   "source": [
    "gs.resample(\"6H\").mean().head()"
   ]
  },
  {
   "cell_type": "markdown",
   "metadata": {},
   "source": [
    "### Rolling / Expanding / EW\n",
    "\n",
    "These methods aren't unique to `DatetimeIndex`es, but they often make sense with time series, so I'll show them here."
   ]
  },
  {
   "cell_type": "code",
   "execution_count": 60,
   "metadata": {},
   "outputs": [
    {
     "data": {
      "image/png": "[encoded data removed]",
      "text/plain": [
       "<Figure size 1080x504 with 1 Axes>"
      ]
     },
     "metadata": {},
     "output_type": "display_data"
    }
   ],
   "source": [
    "gs.Close.plot(label='Raw', figsize=(10, 5))\n",
    "gs.Close.rolling(28).mean().plot(label='28D MA')\n",
    "gs.Close.expanding().mean().plot(label='Expanding Average')\n",
    "gs.Close.ewm(alpha=0.03).mean().plot(label='EWMA($\\\\alpha=.03$)')\n",
    "\n",
    "plt.legend(bbox_to_anchor=(1.0, .5))\n",
    "plt.tight_layout()\n",
    "plt.ylabel(\"Close ($)\")\n",
    "ax = plt.gca()\n",
    "ax.spines['top'].set_visible(False)\n",
    "ax.spines['right'].set_visible(False)\n",
    "ax.get_xaxis().tick_bottom()\n",
    "ax.get_yaxis().tick_left()\n",
    "fig = plt.gcf()\n",
    "fig.set_size_inches(15, 7)"
   ]
  },
  {
   "cell_type": "markdown",
   "metadata": {},
   "source": [
    "Each of `.rolling`, `.expanding`, and `.ewm` return a deferred object, similar to a GroupBy."
   ]
  },
  {
   "cell_type": "code",
   "execution_count": 62,
   "metadata": {},
   "outputs": [
    {
     "data": {
      "text/plain": [
       "Rolling [window=30,center=True,axis=0]"
      ]
     },
     "execution_count": 62,
     "metadata": {},
     "output_type": "execute_result"
    }
   ],
   "source": [
    "roll = gs.Close.rolling(30, center=True)\n",
    "roll"
   ]
  },
  {
   "cell_type": "code",
   "execution_count": 65,
   "metadata": {},
   "outputs": [
    {
     "data": {
      "image/png": "[encoded data removed]",
      "text/plain": [
       "<Figure size 864x504 with 1 Axes>"
      ]
     },
     "metadata": {},
     "output_type": "display_data"
    }
   ],
   "source": [
    "m = roll.agg(['mean', 'std'])\n",
    "ax = m['mean'].plot()\n",
    "ax.fill_between(m.index, m['mean'] - m['std'], m['mean'] + m['std'],\n",
    "                alpha=.25)\n",
    "plt.tight_layout()\n",
    "plt.ylabel(\"Close ($)\")\n",
    "sns.despine()\n",
    "fig = plt.gcf()\n",
    "fig.set_size_inches(12, 7)"
   ]
  },
  {
   "cell_type": "markdown",
   "metadata": {},
   "source": [
    "## Grab Bag\n",
    "\n",
    "### Offsets\n",
    "\n",
    "These are similar to `dateutil.relativedelta`, but works with arrays."
   ]
  },
  {
   "cell_type": "code",
   "execution_count": 68,
   "metadata": {},
   "outputs": [
    {
     "data": {
      "text/plain": [
       "DatetimeIndex(['2006-01-03', '2006-01-04', '2006-01-05', '2006-01-06',\n",
       "               '2006-01-09', '2006-01-10', '2006-01-11', '2006-01-12',\n",
       "               '2006-01-13', '2006-01-17',\n",
       "               ...\n",
       "               '2009-12-17', '2009-12-18', '2009-12-21', '2009-12-22',\n",
       "               '2009-12-23', '2009-12-24', '2009-12-28', '2009-12-29',\n",
       "               '2009-12-30', '2009-12-31'],\n",
       "              dtype='datetime64[ns]', name='Date', length=1007, freq=None)"
      ]
     },
     "execution_count": 68,
     "metadata": {},
     "output_type": "execute_result"
    }
   ],
   "source": [
    "gs.index"
   ]
  },
  {
   "cell_type": "code",
   "execution_count": 67,
   "metadata": {},
   "outputs": [
    {
     "data": {
      "text/plain": [
       "DatetimeIndex(['2006-04-01', '2006-04-02', '2006-04-03', '2006-04-04',\n",
       "               '2006-04-07', '2006-04-08', '2006-04-09', '2006-04-10',\n",
       "               '2006-04-11', '2006-04-15',\n",
       "               ...\n",
       "               '2010-03-15', '2010-03-16', '2010-03-19', '2010-03-20',\n",
       "               '2010-03-21', '2010-03-22', '2010-03-26', '2010-03-27',\n",
       "               '2010-03-28', '2010-03-29'],\n",
       "              dtype='datetime64[ns]', name='Date', length=1007, freq=None)"
      ]
     },
     "execution_count": 67,
     "metadata": {},
     "output_type": "execute_result"
    }
   ],
   "source": [
    "gs.index + pd.DateOffset(months=3, days=-2)"
   ]
  },
  {
   "cell_type": "markdown",
   "metadata": {},
   "source": [
    "### Holiday Calendars\n",
    "\n",
    "There are a whole bunch of special calendars, useful for traders probabaly."
   ]
  },
  {
   "cell_type": "code",
   "execution_count": 70,
   "metadata": {},
   "outputs": [
    {
     "data": {
      "text/plain": [
       "DatetimeIndex(['2015-10-12', '2016-10-10', '2017-10-09', '2018-10-08',\n",
       "               '2019-10-14'],\n",
       "              dtype='datetime64[ns]', freq='WOM-2MON')"
      ]
     },
     "execution_count": 70,
     "metadata": {},
     "output_type": "execute_result"
    }
   ],
   "source": [
    "from pandas.tseries.holiday import USColumbusDay\n",
    "USColumbusDay.dates('2015-01-01', '2020-01-01')"
   ]
  },
  {
   "cell_type": "markdown",
   "metadata": {},
   "source": [
    "### Timezones\n",
    "\n",
    "Pandas works with `pytz` for nice timezone-aware datetimes. The typical workflow is:\n",
    "\n",
    "1. localize timezone-naive timestamps to some timezone\n",
    "2. convert to desired timezone\n",
    "\n",
    "If you already have timezone-aware Timestamps, there's no need for step one. "
   ]
  },
  {
   "cell_type": "code",
   "execution_count": 71,
   "metadata": {},
   "outputs": [
    {
     "data": {
      "text/html": [
       "<div>\n",
       "<style scoped>\n",
       "    .dataframe tbody tr th:only-of-type {\n",
       "        vertical-align: middle;\n",
       "    }\n",
       "\n",
       "    .dataframe tbody tr th {\n",
       "        vertical-align: top;\n",
       "    }\n",
       "\n",
       "    .dataframe thead th {\n",
       "        text-align: right;\n",
       "    }\n",
       "</style>\n",
       "<table border=\"1\" class=\"dataframe\">\n",
       "  <thead>\n",
       "    <tr style=\"text-align: right;\">\n",
       "      <th></th>\n",
       "      <th>Open</th>\n",
       "      <th>High</th>\n",
       "      <th>Low</th>\n",
       "      <th>Close</th>\n",
       "      <th>Adj Close</th>\n",
       "      <th>Volume</th>\n",
       "    </tr>\n",
       "    <tr>\n",
       "      <th>Date</th>\n",
       "      <th></th>\n",
       "      <th></th>\n",
       "      <th></th>\n",
       "      <th></th>\n",
       "      <th></th>\n",
       "      <th></th>\n",
       "    </tr>\n",
       "  </thead>\n",
       "  <tbody>\n",
       "    <tr>\n",
       "      <th>2006-01-03 05:00:00+00:00</th>\n",
       "      <td>126.699997</td>\n",
       "      <td>129.440002</td>\n",
       "      <td>124.230003</td>\n",
       "      <td>128.869995</td>\n",
       "      <td>111.672585</td>\n",
       "      <td>6188700</td>\n",
       "    </tr>\n",
       "    <tr>\n",
       "      <th>2006-01-04 05:00:00+00:00</th>\n",
       "      <td>127.349998</td>\n",
       "      <td>128.910004</td>\n",
       "      <td>126.379997</td>\n",
       "      <td>127.089996</td>\n",
       "      <td>110.130142</td>\n",
       "      <td>4861600</td>\n",
       "    </tr>\n",
       "    <tr>\n",
       "      <th>2006-01-05 05:00:00+00:00</th>\n",
       "      <td>126.000000</td>\n",
       "      <td>127.320000</td>\n",
       "      <td>125.610001</td>\n",
       "      <td>127.040001</td>\n",
       "      <td>110.086807</td>\n",
       "      <td>3717400</td>\n",
       "    </tr>\n",
       "    <tr>\n",
       "      <th>2006-01-06 05:00:00+00:00</th>\n",
       "      <td>127.290001</td>\n",
       "      <td>129.250000</td>\n",
       "      <td>127.290001</td>\n",
       "      <td>128.839996</td>\n",
       "      <td>111.646584</td>\n",
       "      <td>4319600</td>\n",
       "    </tr>\n",
       "    <tr>\n",
       "      <th>2006-01-09 05:00:00+00:00</th>\n",
       "      <td>128.500000</td>\n",
       "      <td>130.619995</td>\n",
       "      <td>128.000000</td>\n",
       "      <td>130.389999</td>\n",
       "      <td>112.989769</td>\n",
       "      <td>4723500</td>\n",
       "    </tr>\n",
       "  </tbody>\n",
       "</table>\n",
       "</div>"
      ],
      "text/plain": [
       "                                 Open        High         Low       Close  \\\n",
       "Date                                                                        \n",
       "2006-01-03 05:00:00+00:00  126.699997  129.440002  124.230003  128.869995   \n",
       "2006-01-04 05:00:00+00:00  127.349998  128.910004  126.379997  127.089996   \n",
       "2006-01-05 05:00:00+00:00  126.000000  127.320000  125.610001  127.040001   \n",
       "2006-01-06 05:00:00+00:00  127.290001  129.250000  127.290001  128.839996   \n",
       "2006-01-09 05:00:00+00:00  128.500000  130.619995  128.000000  130.389999   \n",
       "\n",
       "                            Adj Close   Volume  \n",
       "Date                                            \n",
       "2006-01-03 05:00:00+00:00  111.672585  6188700  \n",
       "2006-01-04 05:00:00+00:00  110.130142  4861600  \n",
       "2006-01-05 05:00:00+00:00  110.086807  3717400  \n",
       "2006-01-06 05:00:00+00:00  111.646584  4319600  \n",
       "2006-01-09 05:00:00+00:00  112.989769  4723500  "
      ]
     },
     "execution_count": 71,
     "metadata": {},
     "output_type": "execute_result"
    }
   ],
   "source": [
    "# tz naive -> tz aware..... to desired UTC\n",
    "gs.tz_localize('US/Eastern').tz_convert('UTC').head()"
   ]
  },
  {
   "cell_type": "markdown",
   "metadata": {},
   "source": [
    "## Modeling Time Series\n",
    "\n",
    "The rest of this post will focus on time series in the econometric sense. My indented reader for this section isn't all that clear, so I apologize upfront for any sudden shifts in complexity. I'm roughly targeting material that could be presented in a first or second semester applied statistics course. What follows certainly isn't a replacement for that. Any formality will be restricted to footnotes for the curious. I've put a whole bunch of resources at the end for people earger to learn more.\n",
    "\n",
    "We'll focus on modelling Average Monthly Flights. Let's download the data. If you've been following along in the series, you've seen most of this code before, so feel free to skip."
   ]
  },
  {
   "cell_type": "code",
   "execution_count": 73,
   "metadata": {},
   "outputs": [],
   "source": [
    "import os\n",
    "import io\n",
    "import glob\n",
    "import zipfile\n",
    "from utils import download_timeseries\n",
    "\n",
    "import statsmodels.api as sm\n",
    "\n",
    "\n",
    "def download_many(start, end):\n",
    "    months = pd.period_range(start, end=end, freq='M')\n",
    "    # We could easily parallelize this loop.\n",
    "    for i, month in enumerate(months):\n",
    "        download_timeseries(month)\n",
    "\n",
    "\n",
    "def time_to_datetime(df, columns):\n",
    "    '''\n",
    "    Combine all time items into datetimes.\n",
    "\n",
    "    2014-01-01,1149.0 -> 2014-01-01T11:49:00\n",
    "    '''\n",
    "    def converter(col):\n",
    "        timepart = (col.astype(str)\n",
    "                       .str.replace('\\.0$', '')  # NaNs force float dtype\n",
    "                       .str.pad(4, fillchar='0'))\n",
    "        return  pd.to_datetime(df['fl_date'] + ' ' +\n",
    "                               timepart.str.slice(0, 2) + ':' +\n",
    "                               timepart.str.slice(2, 4),\n",
    "                               errors='coerce')\n",
    "        return datetime_part\n",
    "    df[columns] = df[columns].apply(converter)\n",
    "    return df\n",
    "\n",
    "\n",
    "def read_one(fp):\n",
    "    df = (pd.read_csv(fp, encoding='latin1')\n",
    "            .rename(columns=str.lower)\n",
    "            .drop('unnamed: 6', axis=1)\n",
    "            .pipe(time_to_datetime, ['dep_time', 'arr_time', 'crs_arr_time',\n",
    "                                     'crs_dep_time'])\n",
    "            .assign(fl_date=lambda x: pd.to_datetime(x['fl_date'])))\n",
    "    return df\n"
   ]
  },
  {
   "cell_type": "markdown",
   "metadata": {},
   "source": [
    "Here you need to create following directories: ./data and ./data/timeseries"
   ]
  },
  {
   "cell_type": "code",
   "execution_count": 76,
   "metadata": {},
   "outputs": [
    {
     "ename": "NameError",
     "evalue": "name 'csvs' is not defined",
     "output_type": "error",
     "traceback": [
      "\u001b[0;31m---------------------------------------------------------------------------\u001b[0m",
      "\u001b[0;31mNameError\u001b[0m                                 Traceback (most recent call last)",
      "\u001b[0;32m<ipython-input-76-6fcb98df6fde>\u001b[0m in \u001b[0;36m<module>\u001b[0;34m()\u001b[0m\n\u001b[1;32m      5\u001b[0m \u001b[0;34m\u001b[0m\u001b[0m\n\u001b[1;32m      6\u001b[0m     \u001b[0mzips\u001b[0m \u001b[0;34m=\u001b[0m \u001b[0mglob\u001b[0m\u001b[0;34m.\u001b[0m\u001b[0mglob\u001b[0m\u001b[0;34m(\u001b[0m\u001b[0mos\u001b[0m\u001b[0;34m.\u001b[0m\u001b[0mpath\u001b[0m\u001b[0;34m.\u001b[0m\u001b[0mjoin\u001b[0m\u001b[0;34m(\u001b[0m\u001b[0;34m'data'\u001b[0m\u001b[0;34m,\u001b[0m \u001b[0;34m'timeseries'\u001b[0m\u001b[0;34m,\u001b[0m \u001b[0;34m'*.zip'\u001b[0m\u001b[0;34m)\u001b[0m\u001b[0;34m)\u001b[0m\u001b[0;34m\u001b[0m\u001b[0m\n\u001b[0;32m----> 7\u001b[0;31m     \u001b[0mdfs\u001b[0m \u001b[0;34m=\u001b[0m \u001b[0;34m[\u001b[0m\u001b[0mread_one\u001b[0m\u001b[0;34m(\u001b[0m\u001b[0mfp\u001b[0m\u001b[0;34m)\u001b[0m \u001b[0;32mfor\u001b[0m \u001b[0mfp\u001b[0m \u001b[0;32min\u001b[0m \u001b[0mcsvs\u001b[0m\u001b[0;34m]\u001b[0m\u001b[0;34m\u001b[0m\u001b[0m\n\u001b[0m\u001b[1;32m      8\u001b[0m     \u001b[0mdf\u001b[0m \u001b[0;34m=\u001b[0m \u001b[0mpd\u001b[0m\u001b[0;34m.\u001b[0m\u001b[0mconcat\u001b[0m\u001b[0;34m(\u001b[0m\u001b[0mdfs\u001b[0m\u001b[0;34m,\u001b[0m \u001b[0mignore_index\u001b[0m\u001b[0;34m=\u001b[0m\u001b[0;32mTrue\u001b[0m\u001b[0;34m)\u001b[0m\u001b[0;34m\u001b[0m\u001b[0m\n\u001b[1;32m      9\u001b[0m \u001b[0;34m\u001b[0m\u001b[0m\n",
      "\u001b[0;31mNameError\u001b[0m: name 'csvs' is not defined"
     ]
    }
   ],
   "source": [
    "store = './data/ts.hdf5'\n",
    "\n",
    "if not os.path.exists(store):\n",
    "    download_many('2000-01-01', '2016-01-01')\n",
    "\n",
    "    zips = glob.glob(os.path.join('data', 'timeseries', '*.zip'))\n",
    "    dfs = [read_one(fp) for fp in csvs]\n",
    "    df = pd.concat(dfs, ignore_index=True)\n",
    "\n",
    "    df['origin'] = df['origin'].astype('category')\n",
    "    df.to_hdf(store, 'ts', format='table')\n",
    "else:\n",
    "    df = pd.read_hdf(store, 'ts')"
   ]
  },
  {
   "cell_type": "code",
   "execution_count": null,
   "metadata": {},
   "outputs": [],
   "source": []
  }
 ],
 "metadata": {
  "kernelspec": {
   "display_name": "Python 3",
   "language": "python",
   "name": "python3"
  },
  "language_info": {
   "codemirror_mode": {
    "name": "ipython",
    "version": 3
   },
   "file_extension": ".py",
   "mimetype": "text/x-python",
   "name": "python",
   "nbconvert_exporter": "python",
   "pygments_lexer": "ipython3",
   "version": "3.6.5"
  }
 },
 "nbformat": 4,
 "nbformat_minor": 2
}
